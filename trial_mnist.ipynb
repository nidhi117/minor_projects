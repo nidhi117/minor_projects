{
 "cells": [
  {
   "cell_type": "code",
   "execution_count": 3,
   "metadata": {},
   "outputs": [],
   "source": [
    "import keras\n",
    "from keras.datasets import mnist\n",
    "from keras.models import Sequential\n",
    "from keras.layers import Dense, Dropout"
   ]
  },
  {
   "cell_type": "code",
   "execution_count": 4,
   "metadata": {
    "collapsed": true
   },
   "outputs": [],
   "source": [
    "batch_size = 128\n",
    "num_classes = 10\n",
    "epoches = 20"
   ]
  },
  {
   "cell_type": "code",
   "execution_count": 5,
   "metadata": {},
   "outputs": [
    {
     "name": "stdout",
     "output_type": "stream",
     "text": [
      "Downloading data from https://s3.amazonaws.com/img-datasets/mnist.npz\n"
     ]
    }
   ],
   "source": [
    "(x_train, y_train), (x_test, y_test) = mnist.load_data()"
   ]
  },
  {
   "cell_type": "code",
   "execution_count": 10,
   "metadata": {},
   "outputs": [
    {
     "name": "stdout",
     "output_type": "stream",
     "text": [
      "60000 train samples\n",
      "10000 test samples\n"
     ]
    }
   ],
   "source": [
    "x_train = x_train.reshape(60000,y_train = keras.utils.to_categorical(y_train, num_classes)\n",
    "y_test = keras.utils.to_categorical(y_test, num_classes) 784)\n",
    "x_test = x_test.reshape(10000, 784)\n",
    "x_train = x_train.astype('float32')\n",
    "x_test = x_test.astype('float32')\n",
    "x_train /= 255\n",
    "x_test /= 255\n",
    "print(x_train.shape[0], 'train samples')\n",
    "print(x_test.shape[0], 'test samples')"
   ]
  },
  {
   "cell_type": "code",
   "execution_count": 11,
   "metadata": {
    "collapsed": true
   },
   "outputs": [],
   "source": [
    "y_train = keras.utils.to_categorical(y_train, num_classes)\n",
    "y_test = keras.utils.to_categorical(y_test, num_classes)"
   ]
  },
  {
   "cell_type": "code",
   "execution_count": 13,
   "metadata": {},
   "outputs": [],
   "source": [
    "model = Sequential()\n",
    "model.add(Dense(512, activation = 'relu', input_shape=(784,)))\n",
    "model.add(Dropout(0.2))\n",
    "model.add(Dense(512, activation = 'relu'))\n",
    "model.add(Dense(num_classes, activation='softmax'))"
   ]
  },
  {
   "cell_type": "code",
   "execution_count": 14,
   "metadata": {},
   "outputs": [
    {
     "name": "stdout",
     "output_type": "stream",
     "text": [
      "_________________________________________________________________\n",
      "Layer (type)                 Output Shape              Param #   \n",
      "=================================================================\n",
      "dense_1 (Dense)              (None, 512)               401920    \n",
      "_________________________________________________________________\n",
      "dropout_1 (Dropout)          (None, 512)               0         \n",
      "_________________________________________________________________\n",
      "dense_2 (Dense)              (None, 512)               262656    \n",
      "_________________________________________________________________\n",
      "dense_3 (Dense)              (None, 10)                5130      \n",
      "=================================================================\n",
      "Total params: 669,706\n",
      "Trainable params: 669,706\n",
      "Non-trainable params: 0\n",
      "_________________________________________________________________\n"
     ]
    }
   ],
   "source": [
    "model.summary()"
   ]
  },
  {
   "cell_type": "code",
   "execution_count": 17,
   "metadata": {},
   "outputs": [
    {
     "name": "stderr",
     "output_type": "stream",
     "text": [
      "/Users/nidhi/anaconda/envs/opencv/lib/python3.5/site-packages/keras/backend/tensorflow_backend.py:2252: UserWarning: Expected no kwargs, you passed 1\n",
      "kwargs passed to function are ignored with Tensorflow backend\n",
      "  warnings.warn('\\n'.join(msg))\n"
     ]
    },
    {
     "name": "stdout",
     "output_type": "stream",
     "text": [
      "Train on 60000 samples, validate on 10000 samples\n",
      "Epoch 1/20\n",
      "60000/60000 [==============================] - 11s - loss: 0.2377 - acc: 0.9265 - val_loss: 0.1032 - val_acc: 0.9671\n",
      "Epoch 2/20\n",
      "60000/60000 [==============================] - 11s - loss: 0.0988 - acc: 0.9696 - val_loss: 0.0799 - val_acc: 0.9757\n",
      "Epoch 3/20\n",
      "60000/60000 [==============================] - 11s - loss: 0.0718 - acc: 0.9780 - val_loss: 0.0715 - val_acc: 0.9780\n",
      "Epoch 4/20\n",
      "60000/60000 [==============================] - 11s - loss: 0.0558 - acc: 0.9827 - val_loss: 0.0692 - val_acc: 0.9804\n",
      "Epoch 5/20\n",
      "60000/60000 [==============================] - 11s - loss: 0.0468 - acc: 0.9856 - val_loss: 0.0713 - val_acc: 0.9819\n",
      "Epoch 6/20\n",
      "60000/60000 [==============================] - 11s - loss: 0.0384 - acc: 0.9884 - val_loss: 0.0760 - val_acc: 0.9805\n",
      "Epoch 7/20\n",
      "60000/60000 [==============================] - 11s - loss: 0.0347 - acc: 0.9894 - val_loss: 0.0826 - val_acc: 0.9808\n",
      "Epoch 8/20\n",
      "60000/60000 [==============================] - 11s - loss: 0.0295 - acc: 0.9909 - val_loss: 0.0914 - val_acc: 0.9809\n",
      "Epoch 9/20\n",
      "60000/60000 [==============================] - 11s - loss: 0.0283 - acc: 0.9914 - val_loss: 0.0867 - val_acc: 0.9807\n",
      "Epoch 10/20\n",
      "60000/60000 [==============================] - 11s - loss: 0.0241 - acc: 0.9927 - val_loss: 0.0849 - val_acc: 0.9835\n",
      "Epoch 11/20\n",
      "60000/60000 [==============================] - 11s - loss: 0.0235 - acc: 0.9932 - val_loss: 0.0969 - val_acc: 0.9801\n",
      "Epoch 12/20\n",
      "60000/60000 [==============================] - 11s - loss: 0.0218 - acc: 0.9935 - val_loss: 0.0908 - val_acc: 0.9808\n",
      "Epoch 13/20\n",
      "60000/60000 [==============================] - 11s - loss: 0.0196 - acc: 0.9943 - val_loss: 0.0853 - val_acc: 0.9840\n",
      "Epoch 14/20\n",
      "60000/60000 [==============================] - 11s - loss: 0.0191 - acc: 0.9947 - val_loss: 0.0969 - val_acc: 0.9829\n",
      "Epoch 15/20\n",
      "60000/60000 [==============================] - 11s - loss: 0.0173 - acc: 0.9947 - val_loss: 0.1021 - val_acc: 0.9840\n",
      "Epoch 16/20\n",
      "60000/60000 [==============================] - 11s - loss: 0.0164 - acc: 0.9952 - val_loss: 0.1076 - val_acc: 0.9840\n",
      "Epoch 17/20\n",
      "60000/60000 [==============================] - 11s - loss: 0.0156 - acc: 0.9954 - val_loss: 0.1038 - val_acc: 0.9844\n",
      "Epoch 18/20\n",
      "60000/60000 [==============================] - 11s - loss: 0.0159 - acc: 0.9958 - val_loss: 0.1270 - val_acc: 0.9802\n",
      "Epoch 19/20\n",
      "60000/60000 [==============================] - 11s - loss: 0.0137 - acc: 0.9961 - val_loss: 0.1102 - val_acc: 0.9846\n",
      "Epoch 20/20\n",
      "60000/60000 [==============================] - 11s - loss: 0.0155 - acc: 0.9960 - val_loss: 0.1262 - val_acc: 0.9836\n"
     ]
    }
   ],
   "source": [
    "from keras.optimizers import RMSprop\n",
    "model.compile(loss='categorical_crossentropy', optimizer=RMSprop(), metrics=['accuracy'])\n",
    "history = model.fit(x_train, y_train,\n",
    "                    batch_size=batch_size,\n",
    "                    epochs=epoches,\n",
    "                    verbose=1,\n",
    "                    validation_data=(x_test, y_test))\n",
    "score = model.evaluate(x_test, y_test, verbose=0)"
   ]
  },
  {
   "cell_type": "code",
   "execution_count": 18,
   "metadata": {},
   "outputs": [
    {
     "name": "stdout",
     "output_type": "stream",
     "text": [
      "Test loss: 0.126218684836\n",
      "Test accuracy: 0.9836\n"
     ]
    }
   ],
   "source": [
    "print('Test loss:', score[0])\n",
    "print('Test accuracy:', score[1])"
   ]
  },
  {
   "cell_type": "code",
   "execution_count": null,
   "metadata": {
    "collapsed": true
   },
   "outputs": [],
   "source": []
  }
 ],
 "metadata": {
  "kernelspec": {
   "display_name": "Python 3",
   "language": "python",
   "name": "python3"
  },
  "language_info": {
   "codemirror_mode": {
    "name": "ipython",
    "version": 3
   },
   "file_extension": ".py",
   "mimetype": "text/x-python",
   "name": "python",
   "nbconvert_exporter": "python",
   "pygments_lexer": "ipython3",
   "version": "3.5.3"
  }
 },
 "nbformat": 4,
 "nbformat_minor": 2
}
